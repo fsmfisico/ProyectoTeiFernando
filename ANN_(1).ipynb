{
  "nbformat": 4,
  "nbformat_minor": 0,
  "metadata": {
    "kernelspec": {
      "display_name": "Python 3",
      "language": "python",
      "name": "python3"
    },
    "language_info": {
      "codemirror_mode": {
        "name": "ipython",
        "version": 3
      },
      "file_extension": ".py",
      "mimetype": "text/x-python",
      "name": "python",
      "nbconvert_exporter": "python",
      "pygments_lexer": "ipython3",
      "version": "3.8.10"
    },
    "colab": {
      "name": "ANN (1).ipynb",
      "provenance": []
    }
  },
  "cells": [
    {
      "cell_type": "markdown",
      "metadata": {
        "id": "_mYNoo3AJHTx"
      },
      "source": [
        "# Ejemplo de ANN\n",
        "<br>\n",
        "<img src=\"https://media.istockphoto.com/vectors/diagram-of-neuron-anatomy-illustration-of-neuron-anatomy-vector-id1288987219?k=20&m=1288987219&s=170667a&w=0&h=H6_EdKCHtpuf8AFcpzBlZi2jkJibckIO55yPw2sARYE=\"/>\n",
        "<br>\n",
        "<img src=\"https://marvel-b1-cdn.bc0a.com/f00000000206209/www.imsl.com/sites/imsl/files/image/2021-01/neuralnetwork-fourinputs.png\"/>\n",
        "<br>\n",
        "<img src=\"https://d3i71xaburhd42.cloudfront.net/40a17f823b03b455a3ace1e406b2716639fd42bc/3-Figure1-1.png\"/>\n",
        "<br>\n",
        "<img src=\"https://encyclopedia.mdpi.cn/FugGSo4y9tDzErRuNqQFLB6WS9eu\"/>\n",
        "<br>"
      ]
    },
    {
      "cell_type": "code",
      "metadata": {
        "id": "IZeJBBg3JHUB"
      },
      "source": [
        "#IMPORTANDO LIBRERIAS\n",
        "import tensorflow as tf #LIBRERIA PARA OPERACIONES DE MACHINE LEARNING\n",
        "from tensorflow import keras #MANEADOR O INTERFACE DE TENSORFLOW\n",
        "from keras.datasets import fashion_mnist #EL CONJUNTO DE DATOS A OCUPAR\n",
        "import matplotlib.pyplot as plt #PARA PLOTEAR\n",
        "import matplotlib\n",
        "import numpy as np #LIRERIA DE OPERACIONES MATEMÁTICAS\n",
        "import pydot #PARA IMPRIMIR DIAGRAMA DE LA RED\n",
        "import pandas as pd #PARA MANEJO UTIL DE DATAFRAMES\n",
        "#CONFIGURACIONES DE PYPLOT\n",
        "%matplotlib inline\n",
        "#Using a white bnackgroud for matplotlib figures\n",
        "matplotlib.rcParams['figure.facecolor'] = '#ffffff'"
      ],
      "execution_count": null,
      "outputs": []
    },
    {
      "cell_type": "markdown",
      "metadata": {
        "id": "DOMKa1kYJHUE"
      },
      "source": [
        "# Información del dataset:\n",
        "</br>\n",
        "El conjunto de datos consta de dos tuplas:\n",
        "<br>\n",
        "x_train,x_test = array of grayscale image data with shape (samples,28,28)\n",
        "<br>\n",
        "y_train, y_test = array of lbels (integers in range 0-9) with shape (num_samples)"
      ]
    },
    {
      "cell_type": "code",
      "metadata": {
        "id": "Uy78ZLDIJHUG",
        "colab": {
          "base_uri": "https://localhost:8080/"
        },
        "outputId": "0b0a54e1-3d84-48f7-de73-67d0de1121e6"
      },
      "source": [
        "#IMPORTANDO EL CONJUNTO DE DATOS\n",
        "data = pd.read_csv(\"dataSet.csv\", header=None)\n",
        "\n",
        "#(X_train_full, y_train_full),(X_test,y_test) = df.load_data()\n",
        "data = df.copy()\n",
        "#IMPRIME UN EJEMPLO DEL DATASET\n",
        "data.shape\n",
        "\n",
        "\n"
      ],
      "execution_count": null,
      "outputs": [
        {
          "output_type": "execute_result",
          "data": {
            "text/plain": [
              "(3000, 2)"
            ]
          },
          "metadata": {},
          "execution_count": 8
        }
      ]
    },
    {
      "cell_type": "code",
      "metadata": {
        "colab": {
          "base_uri": "https://localhost:8080/",
          "height": 424
        },
        "id": "PmVVLN5w9nd_",
        "outputId": "06d9f59b-838e-4d89-ec8b-5fc5b59bed53"
      },
      "source": [
        "training=data[0:2500]\n",
        "testing=data[2500:]\n",
        "testing\n"
      ],
      "execution_count": null,
      "outputs": [
        {
          "output_type": "execute_result",
          "data": {
            "text/html": [
              "<div>\n",
              "<style scoped>\n",
              "    .dataframe tbody tr th:only-of-type {\n",
              "        vertical-align: middle;\n",
              "    }\n",
              "\n",
              "    .dataframe tbody tr th {\n",
              "        vertical-align: top;\n",
              "    }\n",
              "\n",
              "    .dataframe thead th {\n",
              "        text-align: right;\n",
              "    }\n",
              "</style>\n",
              "<table border=\"1\" class=\"dataframe\">\n",
              "  <thead>\n",
              "    <tr style=\"text-align: right;\">\n",
              "      <th></th>\n",
              "      <th>0</th>\n",
              "      <th>1</th>\n",
              "    </tr>\n",
              "  </thead>\n",
              "  <tbody>\n",
              "    <tr>\n",
              "      <th>2500</th>\n",
              "      <td>2.47</td>\n",
              "      <td>3</td>\n",
              "    </tr>\n",
              "    <tr>\n",
              "      <th>2501</th>\n",
              "      <td>2.47</td>\n",
              "      <td>3</td>\n",
              "    </tr>\n",
              "    <tr>\n",
              "      <th>2502</th>\n",
              "      <td>2.47</td>\n",
              "      <td>3</td>\n",
              "    </tr>\n",
              "    <tr>\n",
              "      <th>2503</th>\n",
              "      <td>2.47</td>\n",
              "      <td>3</td>\n",
              "    </tr>\n",
              "    <tr>\n",
              "      <th>2504</th>\n",
              "      <td>2.47</td>\n",
              "      <td>3</td>\n",
              "    </tr>\n",
              "    <tr>\n",
              "      <th>...</th>\n",
              "      <td>...</td>\n",
              "      <td>...</td>\n",
              "    </tr>\n",
              "    <tr>\n",
              "      <th>2995</th>\n",
              "      <td>2.48</td>\n",
              "      <td>3</td>\n",
              "    </tr>\n",
              "    <tr>\n",
              "      <th>2996</th>\n",
              "      <td>2.47</td>\n",
              "      <td>3</td>\n",
              "    </tr>\n",
              "    <tr>\n",
              "      <th>2997</th>\n",
              "      <td>2.46</td>\n",
              "      <td>3</td>\n",
              "    </tr>\n",
              "    <tr>\n",
              "      <th>2998</th>\n",
              "      <td>2.46</td>\n",
              "      <td>3</td>\n",
              "    </tr>\n",
              "    <tr>\n",
              "      <th>2999</th>\n",
              "      <td>2.46</td>\n",
              "      <td>3</td>\n",
              "    </tr>\n",
              "  </tbody>\n",
              "</table>\n",
              "<p>500 rows × 2 columns</p>\n",
              "</div>"
            ],
            "text/plain": [
              "         0  1\n",
              "2500  2.47  3\n",
              "2501  2.47  3\n",
              "2502  2.47  3\n",
              "2503  2.47  3\n",
              "2504  2.47  3\n",
              "...    ... ..\n",
              "2995  2.48  3\n",
              "2996  2.47  3\n",
              "2997  2.46  3\n",
              "2998  2.46  3\n",
              "2999  2.46  3\n",
              "\n",
              "[500 rows x 2 columns]"
            ]
          },
          "metadata": {},
          "execution_count": 31
        }
      ]
    },
    {
      "cell_type": "markdown",
      "metadata": {
        "id": "yYxNEAq3JHUJ"
      },
      "source": [
        "# Normalización de los datos"
      ]
    },
    {
      "cell_type": "code",
      "metadata": {
        "id": "piR9LsNPJHUK"
      },
      "source": [
        "#IMPRIME MATRIZ ANTES\n",
        "X_train_full[0]"
      ],
      "execution_count": null,
      "outputs": []
    },
    {
      "cell_type": "code",
      "metadata": {
        "id": "exGS5hf2JHUM"
      },
      "source": [
        "X_train_n = X_train_full / 255.\n",
        "X_test_n  = X_test / 255."
      ],
      "execution_count": null,
      "outputs": []
    },
    {
      "cell_type": "code",
      "metadata": {
        "id": "MmLOpVV3JHUN"
      },
      "source": [
        "#IMPRIME MATRIZ DESPUES DE NORMALZIACIÓN\n",
        "X_train_n[0]"
      ],
      "execution_count": null,
      "outputs": []
    },
    {
      "cell_type": "markdown",
      "metadata": {
        "id": "XIb4RsYmJHUQ"
      },
      "source": [
        "# Dividiendo datos en Entrenamiento/Validación/Prueba\n",
        "\n",
        "We had 60,000 datasets for training and 10,000 test datasets. Now we further split the training data into train/validation. Here is how each type of dataset is used in deep learning:\n",
        "\n",
        "* **Training data ---** used for training the model\n",
        "* **Validation data  ---** used for tuning the hyperparameters and evaluate the models\n",
        "* **Test data ---** used to test the model after the model has gorough initial vetting by the validation set"
      ]
    },
    {
      "cell_type": "code",
      "metadata": {
        "id": "XgZfQa7yJHUR"
      },
      "source": [
        "X_valid, X_train = X_train[:1000],X_train[1000:]\n",
        "y_valid, y_train = y_train[:1000],y_train[1000:]\n",
        "X_train"
      ],
      "execution_count": null,
      "outputs": []
    },
    {
      "cell_type": "code",
      "metadata": {
        "id": "n7Bi-YmtJHUS",
        "colab": {
          "base_uri": "https://localhost:8080/",
          "height": 165
        },
        "outputId": "0e1231ce-5d92-4f16-cdce-085e0fffbc28"
      },
      "source": [
        "X_train.shape"
      ],
      "execution_count": null,
      "outputs": [
        {
          "output_type": "error",
          "ename": "NameError",
          "evalue": "ignored",
          "traceback": [
            "\u001b[0;31m---------------------------------------------------------------------------\u001b[0m",
            "\u001b[0;31mNameError\u001b[0m                                 Traceback (most recent call last)",
            "\u001b[0;32m<ipython-input-29-d2ba684acd0f>\u001b[0m in \u001b[0;36m<module>\u001b[0;34m()\u001b[0m\n\u001b[0;32m----> 1\u001b[0;31m \u001b[0mX_train\u001b[0m\u001b[0;34m.\u001b[0m\u001b[0mshape\u001b[0m\u001b[0;34m\u001b[0m\u001b[0;34m\u001b[0m\u001b[0m\n\u001b[0m",
            "\u001b[0;31mNameError\u001b[0m: name 'X_train' is not defined"
          ]
        }
      ]
    },
    {
      "cell_type": "markdown",
      "metadata": {
        "id": "Sd1jFshJJHUU"
      },
      "source": [
        "# Creando la arquitectura del modelo utilizando la API secuencial de keras"
      ]
    },
    {
      "cell_type": "code",
      "metadata": {
        "id": "Apv-dCtaJHUV"
      },
      "source": [
        "#PARA ASEGURAR REPLICABILIDAD\n",
        "np.random.seed(42)\n",
        "tf.random.set_seed(24)"
      ],
      "execution_count": null,
      "outputs": []
    },
    {
      "cell_type": "code",
      "metadata": {
        "id": "1VIKKqMCJHUW"
      },
      "source": [
        "#CREANDO EL MODELO\n",
        "model = keras.models.Sequential() # SE DEFINE EL USO DE LA API SECUENCIAL\n",
        "model.add(keras.layers.Flatten(input_shape=[1,1])) # DIMENSIONES DE LA CAPA DE ENTRADA\n",
        "model.add(keras.layers.Dense(300, activation=\"relu\")) # TIPO DE ACTIVACION Y NÚMERO DE NEURONAS\n",
        "model.add(keras.layers.Dense(100, activation=\"relu\")) # LO MISMO QUE EL ANTERIOR\n",
        "model.add(keras.layers.Dense(10, activation=\"softmax\")) # CAPA DE SALIDA PARA DETERMINAR LA CLASE"
      ],
      "execution_count": null,
      "outputs": []
    },
    {
      "cell_type": "markdown",
      "metadata": {
        "id": "SZ0wrUX1JHUW"
      },
      "source": [
        "![relu.png](attachment:relu.png)"
      ]
    },
    {
      "cell_type": "code",
      "metadata": {
        "id": "-L6W0_t8JHUX"
      },
      "source": [
        "#RESUMEN DE CONFIGURACIÓN DEL MODELO\n",
        "model.summary()"
      ],
      "execution_count": null,
      "outputs": []
    },
    {
      "cell_type": "code",
      "metadata": {
        "colab": {
          "base_uri": "https://localhost:8080/"
        },
        "id": "UapKjOu8_VsG",
        "outputId": "56dcef1f-3979-453c-c0eb-6c662627e1a7"
      },
      "source": [
        "training[1]"
      ],
      "execution_count": null,
      "outputs": [
        {
          "output_type": "execute_result",
          "data": {
            "text/plain": [
              "0       1\n",
              "1       1\n",
              "2       1\n",
              "3       1\n",
              "4       1\n",
              "       ..\n",
              "2495    3\n",
              "2496    3\n",
              "2497    3\n",
              "2498    3\n",
              "2499    3\n",
              "Name: 1, Length: 2500, dtype: int64"
            ]
          },
          "metadata": {},
          "execution_count": 20
        }
      ]
    },
    {
      "cell_type": "code",
      "metadata": {
        "id": "E0q045aVJHUX",
        "colab": {
          "base_uri": "https://localhost:8080/",
          "height": 466
        },
        "outputId": "ba8a1a3b-e703-40ce-b56d-5ab25444f1c2"
      },
      "source": [
        "#INTERPRETACIÓN GRÁFICA DEL MODELO\n",
        "keras.utils.plot_model(model)"
      ],
      "execution_count": null,
      "outputs": [
        {
          "output_type": "execute_result",
          "data": {
            "image/png": "[encoded data removed]",
            "text/plain": [
              "<IPython.core.display.Image object>"
            ]
          },
          "metadata": {},
          "execution_count": 35
        }
      ]
    },
    {
      "cell_type": "code",
      "metadata": {
        "id": "9Mbh_i1CJHUY"
      },
      "source": [
        "# COMPILACION DEL MODELO\n",
        "model.compile(loss = \"sparse_categorical_crossentropy\", #COMO SE EVALUA EL DESEMPEÑO\n",
        "             optimizer=\"sgd\", # ALGORITMO DE OPTIMIZACIÓN\n",
        "             metrics=[\"accuracy\"]) # METRICAS ADICIONALES PARA EL REPORTE DE DESEMPEÑO"
      ],
      "execution_count": null,
      "outputs": []
    },
    {
      "cell_type": "code",
      "metadata": {
        "id": "i8ln8Kf4JHUY",
        "colab": {
          "base_uri": "https://localhost:8080/"
        },
        "outputId": "f8e17204-4613-4786-c62e-a0144b573d93"
      },
      "source": [
        "# PROCEDE ENTRENAMIENTO DEL MODELO\n",
        "with tf.device('/CPU:0'):\n",
        "    model_history = model.fit(training[0],training[1],epochs=2,batch_size = 1,\n",
        "                         validation_data=(testing[0],testing[1]))"
      ],
      "execution_count": null,
      "outputs": [
        {
          "output_type": "stream",
          "name": "stdout",
          "text": [
            "Epoch 1/2\n",
            "2500/2500 [==============================] - 4s 2ms/step - loss: 0.0070 - accuracy: 1.0000 - val_loss: 0.0138 - val_accuracy: 1.0000\n",
            "Epoch 2/2\n",
            "2500/2500 [==============================] - 4s 2ms/step - loss: 0.0037 - accuracy: 1.0000 - val_loss: 0.0078 - val_accuracy: 1.0000\n"
          ]
        }
      ]
    },
    {
      "cell_type": "code",
      "metadata": {
        "id": "jcjdHBT1JHUZ"
      },
      "source": [
        "#EVALUA EL MODELO EN EL CONJUNTO DE PRUEBA\n",
        "model.evaluate(X_test,y_test)"
      ],
      "execution_count": null,
      "outputs": []
    },
    {
      "cell_type": "code",
      "metadata": {
        "id": "urpX2eaCJHUa",
        "colab": {
          "base_uri": "https://localhost:8080/",
          "height": 324
        },
        "outputId": "8a42c705-35ba-4ee5-8953-3af224f6a1df"
      },
      "source": [
        "#IMPRIME EVOLUCIÓN DEL ENTRENAMIENTO\n",
        "pd.DataFrame(model_history.history).plot(figsize=(8,5))\n",
        "plt.grid(True)\n",
        "plt.gca().set_ylim(0,1)\n",
        "plt.show()"
      ],
      "execution_count": null,
      "outputs": [
        {
          "output_type": "display_data",
          "data": {
            "image/png": "[encoded data removed]",
            "text/plain": [
              "<Figure size 576x360 with 1 Axes>"
            ]
          },
          "metadata": {
            "needs_background": "light"
          }
        }
      ]
    },
    {
      "cell_type": "markdown",
      "metadata": {
        "id": "8l_uz-vwJHUa"
      },
      "source": [
        "# GUARDA Y RECUPERA MODELOS"
      ]
    },
    {
      "cell_type": "code",
      "metadata": {
        "id": "YmG-41QTJHUb"
      },
      "source": [
        "#GUARDA\n",
        "model.save('modelo.h5')\n",
        "#CARGA\n",
        "#nmodel =  tf.keras.models.load_model('modelo.h5')"
      ],
      "execution_count": null,
      "outputs": []
    },
    {
      "cell_type": "markdown",
      "metadata": {
        "id": "_qptui9FJHUb"
      },
      "source": [
        "# Como se depreco el metodo predict_classes se reemplaza con"
      ]
    },
    {
      "cell_type": "code",
      "metadata": {
        "id": "3yYpGgwGJHUb"
      },
      "source": [
        "def predict_classes(a):\n",
        "    f,c = a.shape\n",
        "    clasx = np.zeros(f)\n",
        "    for i in range(f):\n",
        "       aux = a[i,:] \n",
        "       clasx[i]=np.where(aux == aux.max())[0][0]  \n",
        "    return clasx.astype(int)"
      ],
      "execution_count": null,
      "outputs": []
    },
    {
      "cell_type": "code",
      "metadata": {
        "id": "V_OjwNvrJHUc",
        "colab": {
          "base_uri": "https://localhost:8080/",
          "height": 235
        },
        "outputId": "6777510a-8e1d-4e4d-baa0-30e4b53e8794"
      },
      "source": [
        "# HACIENDO PREDICCIONES EN CONJUNTO REDUCIDO\n",
        "X_new = X_test[:3]\n",
        "y_proba = model.predict(X_new)\n",
        "#IMPRIME PROBABILIDADES\n",
        "print(y_proba)\n",
        "#PREDICE E IMPRIME INDICES DE ETIQUETAS\n",
        "y_pred = predict_classes(y_proba)\n",
        "print(y_pred)\n",
        "#CONVIERTE DE INDICE A ETIQUETA\n",
        "etiquetas = np.array(class_names)[y_pred]\n",
        "print(etiquetas)"
      ],
      "execution_count": null,
      "outputs": [
        {
          "output_type": "error",
          "ename": "NameError",
          "evalue": "ignored",
          "traceback": [
            "\u001b[0;31m---------------------------------------------------------------------------\u001b[0m",
            "\u001b[0;31mNameError\u001b[0m                                 Traceback (most recent call last)",
            "\u001b[0;32m<ipython-input-40-85ad051c638c>\u001b[0m in \u001b[0;36m<module>\u001b[0;34m()\u001b[0m\n\u001b[1;32m      1\u001b[0m \u001b[0;31m# HACIENDO PREDICCIONES EN CONJUNTO REDUCIDO\u001b[0m\u001b[0;34m\u001b[0m\u001b[0;34m\u001b[0m\u001b[0;34m\u001b[0m\u001b[0m\n\u001b[0;32m----> 2\u001b[0;31m \u001b[0mX_new\u001b[0m \u001b[0;34m=\u001b[0m \u001b[0mX_test\u001b[0m\u001b[0;34m[\u001b[0m\u001b[0;34m:\u001b[0m\u001b[0;36m3\u001b[0m\u001b[0;34m]\u001b[0m\u001b[0;34m\u001b[0m\u001b[0;34m\u001b[0m\u001b[0m\n\u001b[0m\u001b[1;32m      3\u001b[0m \u001b[0my_proba\u001b[0m \u001b[0;34m=\u001b[0m \u001b[0mmodel\u001b[0m\u001b[0;34m.\u001b[0m\u001b[0mpredict\u001b[0m\u001b[0;34m(\u001b[0m\u001b[0mX_new\u001b[0m\u001b[0;34m)\u001b[0m\u001b[0;34m\u001b[0m\u001b[0;34m\u001b[0m\u001b[0m\n\u001b[1;32m      4\u001b[0m \u001b[0;31m#IMPRIME PROBABILIDADES\u001b[0m\u001b[0;34m\u001b[0m\u001b[0;34m\u001b[0m\u001b[0;34m\u001b[0m\u001b[0m\n\u001b[1;32m      5\u001b[0m \u001b[0mprint\u001b[0m\u001b[0;34m(\u001b[0m\u001b[0my_proba\u001b[0m\u001b[0;34m)\u001b[0m\u001b[0;34m\u001b[0m\u001b[0;34m\u001b[0m\u001b[0m\n",
            "\u001b[0;31mNameError\u001b[0m: name 'X_test' is not defined"
          ]
        }
      ]
    },
    {
      "cell_type": "markdown",
      "metadata": {
        "id": "IMjY4_gZJHUc"
      },
      "source": [
        "# VERIFICANDO PREDICCIONES"
      ]
    },
    {
      "cell_type": "code",
      "metadata": {
        "id": "E7GOa-NVJHUc"
      },
      "source": [
        "print(plt.imshow(X_test[0]))\n",
        "print(f'Clase: {etiquetas[0]}')"
      ],
      "execution_count": null,
      "outputs": []
    },
    {
      "cell_type": "code",
      "metadata": {
        "id": "TA6twbnEJHUd"
      },
      "source": [
        "print(plt.imshow(X_test[1]))\n",
        "print(f'Clase: {etiquetas[1]}')"
      ],
      "execution_count": null,
      "outputs": []
    },
    {
      "cell_type": "code",
      "metadata": {
        "id": "9P7ehrmYJHUd"
      },
      "source": [
        "print(plt.imshow(X_test[2]))\n",
        "print(f'Clase: {etiquetas[2]}')"
      ],
      "execution_count": null,
      "outputs": []
    },
    {
      "cell_type": "code",
      "metadata": {
        "id": "PWhQwL4jJHUd"
      },
      "source": [
        ""
      ],
      "execution_count": null,
      "outputs": []
    }
  ]
}